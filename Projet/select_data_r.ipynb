{
 "cells": [
  {
   "cell_type": "markdown",
   "metadata": {},
   "source": [
    "# Tri des données"
   ]
  },
  {
   "cell_type": "markdown",
   "metadata": {},
   "source": [
    "## Initialisation"
   ]
  },
  {
   "cell_type": "code",
   "execution_count": 1,
   "metadata": {},
   "outputs": [],
   "source": [
    "import pandas as pd\n",
    "import numpy as np\n",
    "\n",
    "championships = pd.read_csv(\"./WCA/WCA_export_championships.tsv\", sep=\"\\t\")#, index_col=0)\n",
    "championships.set_index([\"id\"], inplace=True)\n",
    "competitions = pd.read_csv(\"./WCA/WCA_export_Competitions.tsv\", sep=\"\\t\")#, index_col=0)\n",
    "competitions.set_index(\"id\", inplace=True)\n",
    "continents = pd.read_csv(\"./WCA/WCA_export_Continents.tsv\", sep=\"\\t\")#, index_col=0)\n",
    "continents.set_index(\"id\", inplace=True)\n",
    "countries = pd.read_csv(\"./WCA/WCA_export_Countries.tsv\", sep=\"\\t\")#, index_col=0)\n",
    "countries.set_index(\"id\", inplace=True)\n",
    "events = pd.read_csv(\"./WCA/WCA_export_Events.tsv\", sep=\"\\t\")#, index_col=0)\n",
    "events.set_index(\"id\", inplace=True)\n",
    "persons = pd.read_csv(\"./WCA/WCA_export_Persons.tsv\", sep=\"\\t\")#, index_col=0)\n",
    "persons.set_index(\"id\", inplace=True)\n",
    "results = pd.read_csv(\"./WCA/WCA_export_Results.tsv\", sep=\"\\t\")#, index_col=0)\n",
    "roundtypes = pd.read_csv(\"./WCA/WCA_export_RoundTypes.tsv\", sep=\"\\t\")#, index_col=0)\n",
    "roundtypes.set_index(\"id\", inplace=True)\n",
    "championships.reset_index(drop=False, inplace=True)\n",
    "continents.reset_index(drop=False, inplace=True)\n",
    "countries.reset_index(drop=False, inplace=True)\n",
    "events.reset_index(drop=False, inplace=True)\n",
    "persons.reset_index(drop=False, inplace=True)\n",
    "roundtypes.reset_index(drop=False, inplace=True)\n",
    "competitions.reset_index(drop=False, inplace=True)"
   ]
  },
  {
   "cell_type": "markdown",
   "metadata": {},
   "source": [
    "## Cities"
   ]
  },
  {
   "cell_type": "code",
   "execution_count": 2,
   "metadata": {},
   "outputs": [],
   "source": [
    "cities = pd.DataFrame()\n",
    "cities[\"cityName\"] = competitions[\"cityName\"].unique()\n",
    "city = cities.copy()\n",
    "join_c = city.merge(competitions, \n",
    "                   how=\"left\", \n",
    "                   left_on=\"cityName\", \n",
    "                   right_on=\"cityName\")\n",
    "join_c.reset_index(inplace=True, drop=False)\n",
    "join_c.drop_duplicates(\"cityName\", inplace=True, keep=\"last\")\n",
    "join_c.drop([\"id\", \"name\", \"information\", \"year\", \"month\", \"day\", \n",
    "             \"endMonth\", \"endDay\", \"eventSpecs\", \"wcaDelegate\", \n",
    "             \"organiser\", \"venue\", \"venueAddress\", \"venueDetails\", \n",
    "             \"external_website\", \"cellName\"], \n",
    "            axis='columns', inplace=True)\n",
    "join_c.rename({\"latitude\":\"cityLatitude\", \n",
    "               \"longitude\":\"cityLongitude\"}, axis='columns', inplace=True)\n",
    "join_c[\"cityId\"] = range(cities.shape[0])\n",
    "join_c[\"cityId\"] = join_c[\"cityId\"] + 1\n",
    "join_c.drop(\"index\", inplace=True, axis='columns')\n",
    "join_c.to_csv(\"./CSV/cities.csv\", index=False)"
   ]
  },
  {
   "cell_type": "markdown",
   "metadata": {},
   "source": [
    "## Cities sans les ID"
   ]
  },
  {
   "cell_type": "code",
   "execution_count": 3,
   "metadata": {},
   "outputs": [],
   "source": [
    "sans_id = join_c.drop(\"cityId\", axis='columns')\n",
    "sans_id.to_csv(\"./CSV/cities_sans_id.csv\", index=False)"
   ]
  },
  {
   "cell_type": "markdown",
   "metadata": {},
   "source": [
    "## Date_comp"
   ]
  },
  {
   "cell_type": "code",
   "execution_count": 4,
   "metadata": {},
   "outputs": [],
   "source": [
    "date_comp = pd.DataFrame()\n",
    "comp = competitions.copy().reset_index(drop=True)\n",
    "gitan = pd.DataFrame()\n",
    "gitan[\"tiret\"] = ['-'] * comp.shape[0]\n",
    "well_shaped_begin = comp[\"year\"].map(str)  + gitan[\"tiret\"] + comp[\"month\"].map(str) + gitan[\"tiret\"] + comp[\"day\"].map(str)\n",
    "well_shaped_end = comp[\"year\"].map(str)  + gitan[\"tiret\"] + comp[\"endMonth\"].map(str) + gitan[\"tiret\"] + comp[\"endDay\"].map(str)\n",
    "frames = [ well_shaped_begin, well_shaped_end ]\n",
    "date_comp[\"date\"] = sorted(pd.concat(frames).unique())\n",
    "date_comp.reset_index(drop=False, inplace=True)\n",
    "date_comp.rename({\"index\":\"dateId\"}, axis='columns', inplace=True)\n",
    "date_comp[\"dateId\"] = date_comp[\"dateId\"] + 1\n",
    "date_comp.to_csv(\"./CSV/date_comp2.csv\", index=False)"
   ]
  },
  {
   "cell_type": "markdown",
   "metadata": {},
   "source": [
    "## Date_comp sans les ID"
   ]
  },
  {
   "cell_type": "code",
   "execution_count": 5,
   "metadata": {},
   "outputs": [],
   "source": [
    "date_sans_id = date_comp.reset_index(drop=True)\n",
    "date_sans_id.drop(\"dateId\", axis=1, inplace=True)\n",
    "date_sans_id.to_csv(\"./CSV/date_sans_id.csv\", index=False)"
   ]
  },
  {
   "cell_type": "markdown",
   "metadata": {},
   "source": [
    "## Championships"
   ]
  },
  {
   "cell_type": "code",
   "execution_count": 6,
   "metadata": {},
   "outputs": [],
   "source": [
    "pogchamp = championships.copy()\n",
    "pogchamp.rename({\"id\":\"championshipId\"}, axis='columns', inplace=True)\n",
    "pogchamp.rename({\"competition_id\":\"competitionId\"}, axis='columns', inplace=True)\n",
    "pogchamp.rename({\"championship_type\":\"championshipType\"}, axis='columns', inplace=True)\n",
    "pogchamp.to_csv('./CSV/championships.csv', index=False)"
   ]
  },
  {
   "cell_type": "markdown",
   "metadata": {},
   "source": [
    "## Roundtypes"
   ]
  },
  {
   "cell_type": "code",
   "execution_count": 7,
   "metadata": {},
   "outputs": [],
   "source": [
    "RT = roundtypes.copy()\n",
    "RT.rename({\"id\":\"roundTypeId\"}, axis='columns', inplace=True)\n",
    "RT.rename({\"name\":\"roundTypeName\"}, axis='columns', inplace=True)\n",
    "RT.drop(columns = [\"rank\", \"cellName\", \"final\"], inplace=True)\n",
    "RT.to_csv(\"./CSV/roundtypes.csv\", index=False)"
   ]
  },
  {
   "cell_type": "markdown",
   "metadata": {},
   "source": [
    "## Continents"
   ]
  },
  {
   "cell_type": "code",
   "execution_count": 8,
   "metadata": {},
   "outputs": [],
   "source": [
    "cont = continents.copy()\n",
    "cont.rename({\"id\":\"continentId\"}, axis='columns', inplace=True)\n",
    "cont.rename({\"name\":\"continentName\"}, axis='columns', inplace=True)\n",
    "cont.drop(columns = [\"latitude\", \"longitude\", \"zoom\"], inplace=True)\n",
    "cont.to_csv(\"./CSV/continents.csv\", index=False)"
   ]
  },
  {
   "cell_type": "markdown",
   "metadata": {},
   "source": [
    "## Country"
   ]
  },
  {
   "cell_type": "code",
   "execution_count": 9,
   "metadata": {},
   "outputs": [],
   "source": [
    "ctry = countries.copy()\n",
    "ctry.rename({\"id\":\"countryId\"}, axis='columns', inplace=True)\n",
    "ctry.rename({\"name\":\"countryName\"}, axis='columns', inplace=True)\n",
    "ctry.to_csv(\"./CSV/countries.csv\", index=False)"
   ]
  },
  {
   "cell_type": "markdown",
   "metadata": {},
   "source": [
    "## Events"
   ]
  },
  {
   "cell_type": "code",
   "execution_count": 10,
   "metadata": {},
   "outputs": [],
   "source": [
    "evt = events.copy()\n",
    "evt.rename({\"id\":\"eventId\"}, axis='columns', inplace=True)\n",
    "evt.rename({\"name\":\"eventName\"}, axis='columns', inplace=True)\n",
    "evt.drop(columns = [\"rank\", \"format\", \"cellName\"], inplace=True)\n",
    "evt.to_csv(\"./CSV/events.csv\", index=False)"
   ]
  },
  {
   "cell_type": "markdown",
   "metadata": {},
   "source": [
    "## Results\n"
   ]
  },
  {
   "cell_type": "code",
   "execution_count": 11,
   "metadata": {},
   "outputs": [],
   "source": [
    "res = results.copy()\n",
    "res.drop([\"personName\", \"personCountryId\", \"formatId\", \"pos\"], axis='columns', inplace=True)\n",
    "res.dropna(axis='index', how='all', subset=[\"regionalSingleRecord\", \"regionalAverageRecord\"], inplace=True)\n",
    "res[\"resultId\"] = range(res.shape[0])\n",
    "res.rename({\"value1\":\"time1\", \n",
    "           \"value2\":\"time2\",\n",
    "           \"value3\":\"time3\", \n",
    "           \"value4\":\"time4\", \n",
    "           \"value5\":\"time5\"}, axis=\"columns\", inplace=True)\n",
    "res.to_csv('./CSV/results.csv', index=False)"
   ]
  },
  {
   "cell_type": "markdown",
   "metadata": {},
   "source": [
    "## Results sans les IDs"
   ]
  },
  {
   "cell_type": "code",
   "execution_count": 12,
   "metadata": {},
   "outputs": [],
   "source": [
    "sid = res.drop(\"resultId\", axis='columns')\n",
    "sid.to_csv(\"./CSV/results_sans_id.csv\", index=False)"
   ]
  },
  {
   "cell_type": "markdown",
   "metadata": {},
   "source": [
    "## Persons"
   ]
  },
  {
   "cell_type": "code",
   "execution_count": 13,
   "metadata": {},
   "outputs": [],
   "source": [
    "pers = persons.copy()\n",
    "pers.drop(pers[pers[\"subid\"] == 2].index, inplace=True)\n",
    "pers.drop(\"subid\", axis='columns', inplace=True)\n",
    "pers[\"gender\"].fillna('o', inplace=True)\n",
    "pers.rename({\"id\":\"personId\"}, axis='columns', inplace=True)\n",
    "pers.rename({\"name\":\"personName\"}, axis='columns', inplace=True)\n",
    "pers.drop(pers[~pers[\"personId\"].isin(res[\"personId\"]) ].index, inplace=True)\n",
    "pers.to_csv(\"./CSV/persons.csv\", index=False)"
   ]
  },
  {
   "cell_type": "markdown",
   "metadata": {},
   "source": [
    "## Competitions"
   ]
  },
  {
   "cell_type": "code",
   "execution_count": 14,
   "metadata": {},
   "outputs": [],
   "source": [
    "assos = competitions.copy()\n",
    "assos.drop(\"countryId\", axis='columns', inplace=True)\n",
    "assos = assos.merge(join_c, \n",
    "                   how=\"left\", \n",
    "                   left_on=\"cityName\", \n",
    "                   right_on=\"cityName\")\n",
    "assos.drop([\"information\", \"eventSpecs\",\n",
    "            \"wcaDelegate\", \"organiser\", \"venueAddress\", \"venueDetails\", \"external_website\", \"cellName\", \n",
    "            \"latitude\", \"longitude\"], axis=1, inplace=True)\n",
    "assos.reset_index(drop=False, inplace=True)\n",
    "assos.drop([\"cityName\"], axis=1, inplace=True)\n",
    "gitan = pd.DataFrame()\n",
    "gitan[\"tiret\"] = ['-'] * comp.shape[0]\n",
    "well_shaped_begin = assos[\"year\"].map(str)  + gitan[\"tiret\"] + assos[\"month\"].map(str) + gitan[\"tiret\"] + assos[\"day\"].map(str)\n",
    "well_shaped_end = assos[\"year\"].map(str)  + gitan[\"tiret\"] + assos[\"endMonth\"].map(str) + gitan[\"tiret\"] + assos[\"endDay\"].map(str)\n",
    "assos[\"beginDate\"] = well_shaped_begin\n",
    "assos[\"endDate\"] = well_shaped_end\n",
    "join_begin = assos.merge(date_comp, \n",
    "                        how=\"left\", \n",
    "                        left_on=\"beginDate\", \n",
    "                        right_on=\"date\")\n",
    "join_begin.rename({\"dateId\":\"dateBeginId\"}, axis='columns', inplace=True)\n",
    "join_end = join_begin.merge(date_comp, \n",
    "                           how=\"left\", \n",
    "                           left_on=\"endDate\", \n",
    "                           right_on=\"date\")\n",
    "join_end.rename({\"dateId\":\"dateEndId\"}, axis='columns', inplace=True)\n",
    "join_end.rename({\"id\":\"competitionId\"}, axis='columns', inplace=True)\n",
    "join_end.rename({\"name\":\"competitionName\"}, axis='columns', inplace=True)\n",
    "join_end.drop(columns = [\"year\", \"month\", \"day\", \"endDay\", \"endMonth\", \"countryId\", \"cityLongitude\", \"cityLatitude\"], inplace=True)\n",
    "join_end.reset_index(drop=True, inplace=True)\n",
    "join_end.drop([\"index\", \"beginDate\", \"endDate\", \"date_x\", \"date_y\"], axis=\"columns\", inplace=True)\n",
    "join_end.to_csv(\"./CSV/competitions.csv\", index=False)"
   ]
  }
 ],
 "metadata": {
  "kernelspec": {
   "display_name": "Python 3",
   "language": "python",
   "name": "python3"
  },
  "language_info": {
   "codemirror_mode": {
    "name": "ipython",
    "version": 3
   },
   "file_extension": ".py",
   "mimetype": "text/x-python",
   "name": "python",
   "nbconvert_exporter": "python",
   "pygments_lexer": "ipython3",
   "version": "3.6.5"
  }
 },
 "nbformat": 4,
 "nbformat_minor": 2
}
